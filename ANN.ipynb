{
 "metadata": {
  "language_info": {
   "codemirror_mode": {
    "name": "ipython",
    "version": 3
   },
   "file_extension": ".py",
   "mimetype": "text/x-python",
   "name": "python",
   "nbconvert_exporter": "python",
   "pygments_lexer": "ipython3",
   "version": "3.7.5-final"
  },
  "orig_nbformat": 2,
  "kernelspec": {
   "name": "python_defaultSpec_1598798199765",
   "display_name": "Python 3.7.5 64-bit"
  }
 },
 "nbformat": 4,
 "nbformat_minor": 2,
 "cells": [
  {
   "cell_type": "code",
   "execution_count": 59,
   "metadata": {},
   "outputs": [],
   "source": [
    "import numpy as np \n",
    "import pandas as pd \n",
    "import matplotlib.pyplot as plt"
   ]
  },
  {
   "cell_type": "code",
   "execution_count": 60,
   "metadata": {},
   "outputs": [
    {
     "output_type": "execute_result",
     "data": {
      "text/plain": "   RowNumber  CustomerId   Surname  CreditScore Geography  Gender  Age  \\\n0          1    15634602  Hargrave          619    France  Female   42   \n1          2    15647311      Hill          608     Spain  Female   41   \n2          3    15619304      Onio          502    France  Female   42   \n3          4    15701354      Boni          699    France  Female   39   \n4          5    15737888  Mitchell          850     Spain  Female   43   \n\n   Tenure    Balance  NumOfProducts  HasCrCard  IsActiveMember  \\\n0       2       0.00              1          1               1   \n1       1   83807.86              1          0               1   \n2       8  159660.80              3          1               0   \n3       1       0.00              2          0               0   \n4       2  125510.82              1          1               1   \n\n   EstimatedSalary  Exited  \n0        101348.88       1  \n1        112542.58       0  \n2        113931.57       1  \n3         93826.63       0  \n4         79084.10       0  ",
      "text/html": "<div>\n<style scoped>\n    .dataframe tbody tr th:only-of-type {\n        vertical-align: middle;\n    }\n\n    .dataframe tbody tr th {\n        vertical-align: top;\n    }\n\n    .dataframe thead th {\n        text-align: right;\n    }\n</style>\n<table border=\"1\" class=\"dataframe\">\n  <thead>\n    <tr style=\"text-align: right;\">\n      <th></th>\n      <th>RowNumber</th>\n      <th>CustomerId</th>\n      <th>Surname</th>\n      <th>CreditScore</th>\n      <th>Geography</th>\n      <th>Gender</th>\n      <th>Age</th>\n      <th>Tenure</th>\n      <th>Balance</th>\n      <th>NumOfProducts</th>\n      <th>HasCrCard</th>\n      <th>IsActiveMember</th>\n      <th>EstimatedSalary</th>\n      <th>Exited</th>\n    </tr>\n  </thead>\n  <tbody>\n    <tr>\n      <th>0</th>\n      <td>1</td>\n      <td>15634602</td>\n      <td>Hargrave</td>\n      <td>619</td>\n      <td>France</td>\n      <td>Female</td>\n      <td>42</td>\n      <td>2</td>\n      <td>0.00</td>\n      <td>1</td>\n      <td>1</td>\n      <td>1</td>\n      <td>101348.88</td>\n      <td>1</td>\n    </tr>\n    <tr>\n      <th>1</th>\n      <td>2</td>\n      <td>15647311</td>\n      <td>Hill</td>\n      <td>608</td>\n      <td>Spain</td>\n      <td>Female</td>\n      <td>41</td>\n      <td>1</td>\n      <td>83807.86</td>\n      <td>1</td>\n      <td>0</td>\n      <td>1</td>\n      <td>112542.58</td>\n      <td>0</td>\n    </tr>\n    <tr>\n      <th>2</th>\n      <td>3</td>\n      <td>15619304</td>\n      <td>Onio</td>\n      <td>502</td>\n      <td>France</td>\n      <td>Female</td>\n      <td>42</td>\n      <td>8</td>\n      <td>159660.80</td>\n      <td>3</td>\n      <td>1</td>\n      <td>0</td>\n      <td>113931.57</td>\n      <td>1</td>\n    </tr>\n    <tr>\n      <th>3</th>\n      <td>4</td>\n      <td>15701354</td>\n      <td>Boni</td>\n      <td>699</td>\n      <td>France</td>\n      <td>Female</td>\n      <td>39</td>\n      <td>1</td>\n      <td>0.00</td>\n      <td>2</td>\n      <td>0</td>\n      <td>0</td>\n      <td>93826.63</td>\n      <td>0</td>\n    </tr>\n    <tr>\n      <th>4</th>\n      <td>5</td>\n      <td>15737888</td>\n      <td>Mitchell</td>\n      <td>850</td>\n      <td>Spain</td>\n      <td>Female</td>\n      <td>43</td>\n      <td>2</td>\n      <td>125510.82</td>\n      <td>1</td>\n      <td>1</td>\n      <td>1</td>\n      <td>79084.10</td>\n      <td>0</td>\n    </tr>\n  </tbody>\n</table>\n</div>"
     },
     "metadata": {},
     "execution_count": 60
    }
   ],
   "source": [
    "data=pd.read_csv('Churn_Modelling.csv')\n",
    "data.head()"
   ]
  },
  {
   "cell_type": "code",
   "execution_count": 61,
   "metadata": {},
   "outputs": [
    {
     "output_type": "execute_result",
     "data": {
      "text/plain": "(10000, 14)"
     },
     "metadata": {},
     "execution_count": 61
    }
   ],
   "source": [
    "data.shape"
   ]
  },
  {
   "cell_type": "code",
   "execution_count": 62,
   "metadata": {},
   "outputs": [
    {
     "output_type": "execute_result",
     "data": {
      "text/plain": "         RowNumber    CustomerId   CreditScore           Age        Tenure  \\\ncount  10000.00000  1.000000e+04  10000.000000  10000.000000  10000.000000   \nmean    5000.50000  1.569094e+07    650.528800     38.921800      5.012800   \nstd     2886.89568  7.193619e+04     96.653299     10.487806      2.892174   \nmin        1.00000  1.556570e+07    350.000000     18.000000      0.000000   \n25%     2500.75000  1.562853e+07    584.000000     32.000000      3.000000   \n50%     5000.50000  1.569074e+07    652.000000     37.000000      5.000000   \n75%     7500.25000  1.575323e+07    718.000000     44.000000      7.000000   \nmax    10000.00000  1.581569e+07    850.000000     92.000000     10.000000   \n\n             Balance  NumOfProducts    HasCrCard  IsActiveMember  \\\ncount   10000.000000   10000.000000  10000.00000    10000.000000   \nmean    76485.889288       1.530200      0.70550        0.515100   \nstd     62397.405202       0.581654      0.45584        0.499797   \nmin         0.000000       1.000000      0.00000        0.000000   \n25%         0.000000       1.000000      0.00000        0.000000   \n50%     97198.540000       1.000000      1.00000        1.000000   \n75%    127644.240000       2.000000      1.00000        1.000000   \nmax    250898.090000       4.000000      1.00000        1.000000   \n\n       EstimatedSalary        Exited  \ncount     10000.000000  10000.000000  \nmean     100090.239881      0.203700  \nstd       57510.492818      0.402769  \nmin          11.580000      0.000000  \n25%       51002.110000      0.000000  \n50%      100193.915000      0.000000  \n75%      149388.247500      0.000000  \nmax      199992.480000      1.000000  ",
      "text/html": "<div>\n<style scoped>\n    .dataframe tbody tr th:only-of-type {\n        vertical-align: middle;\n    }\n\n    .dataframe tbody tr th {\n        vertical-align: top;\n    }\n\n    .dataframe thead th {\n        text-align: right;\n    }\n</style>\n<table border=\"1\" class=\"dataframe\">\n  <thead>\n    <tr style=\"text-align: right;\">\n      <th></th>\n      <th>RowNumber</th>\n      <th>CustomerId</th>\n      <th>CreditScore</th>\n      <th>Age</th>\n      <th>Tenure</th>\n      <th>Balance</th>\n      <th>NumOfProducts</th>\n      <th>HasCrCard</th>\n      <th>IsActiveMember</th>\n      <th>EstimatedSalary</th>\n      <th>Exited</th>\n    </tr>\n  </thead>\n  <tbody>\n    <tr>\n      <th>count</th>\n      <td>10000.00000</td>\n      <td>1.000000e+04</td>\n      <td>10000.000000</td>\n      <td>10000.000000</td>\n      <td>10000.000000</td>\n      <td>10000.000000</td>\n      <td>10000.000000</td>\n      <td>10000.00000</td>\n      <td>10000.000000</td>\n      <td>10000.000000</td>\n      <td>10000.000000</td>\n    </tr>\n    <tr>\n      <th>mean</th>\n      <td>5000.50000</td>\n      <td>1.569094e+07</td>\n      <td>650.528800</td>\n      <td>38.921800</td>\n      <td>5.012800</td>\n      <td>76485.889288</td>\n      <td>1.530200</td>\n      <td>0.70550</td>\n      <td>0.515100</td>\n      <td>100090.239881</td>\n      <td>0.203700</td>\n    </tr>\n    <tr>\n      <th>std</th>\n      <td>2886.89568</td>\n      <td>7.193619e+04</td>\n      <td>96.653299</td>\n      <td>10.487806</td>\n      <td>2.892174</td>\n      <td>62397.405202</td>\n      <td>0.581654</td>\n      <td>0.45584</td>\n      <td>0.499797</td>\n      <td>57510.492818</td>\n      <td>0.402769</td>\n    </tr>\n    <tr>\n      <th>min</th>\n      <td>1.00000</td>\n      <td>1.556570e+07</td>\n      <td>350.000000</td>\n      <td>18.000000</td>\n      <td>0.000000</td>\n      <td>0.000000</td>\n      <td>1.000000</td>\n      <td>0.00000</td>\n      <td>0.000000</td>\n      <td>11.580000</td>\n      <td>0.000000</td>\n    </tr>\n    <tr>\n      <th>25%</th>\n      <td>2500.75000</td>\n      <td>1.562853e+07</td>\n      <td>584.000000</td>\n      <td>32.000000</td>\n      <td>3.000000</td>\n      <td>0.000000</td>\n      <td>1.000000</td>\n      <td>0.00000</td>\n      <td>0.000000</td>\n      <td>51002.110000</td>\n      <td>0.000000</td>\n    </tr>\n    <tr>\n      <th>50%</th>\n      <td>5000.50000</td>\n      <td>1.569074e+07</td>\n      <td>652.000000</td>\n      <td>37.000000</td>\n      <td>5.000000</td>\n      <td>97198.540000</td>\n      <td>1.000000</td>\n      <td>1.00000</td>\n      <td>1.000000</td>\n      <td>100193.915000</td>\n      <td>0.000000</td>\n    </tr>\n    <tr>\n      <th>75%</th>\n      <td>7500.25000</td>\n      <td>1.575323e+07</td>\n      <td>718.000000</td>\n      <td>44.000000</td>\n      <td>7.000000</td>\n      <td>127644.240000</td>\n      <td>2.000000</td>\n      <td>1.00000</td>\n      <td>1.000000</td>\n      <td>149388.247500</td>\n      <td>0.000000</td>\n    </tr>\n    <tr>\n      <th>max</th>\n      <td>10000.00000</td>\n      <td>1.581569e+07</td>\n      <td>850.000000</td>\n      <td>92.000000</td>\n      <td>10.000000</td>\n      <td>250898.090000</td>\n      <td>4.000000</td>\n      <td>1.00000</td>\n      <td>1.000000</td>\n      <td>199992.480000</td>\n      <td>1.000000</td>\n    </tr>\n  </tbody>\n</table>\n</div>"
     },
     "metadata": {},
     "execution_count": 62
    }
   ],
   "source": [
    "data.describe()"
   ]
  },
  {
   "cell_type": "code",
   "execution_count": 63,
   "metadata": {},
   "outputs": [
    {
     "output_type": "execute_result",
     "data": {
      "text/plain": "RowNumber          0\nCustomerId         0\nSurname            0\nCreditScore        0\nGeography          0\nGender             0\nAge                0\nTenure             0\nBalance            0\nNumOfProducts      0\nHasCrCard          0\nIsActiveMember     0\nEstimatedSalary    0\nExited             0\ndtype: int64"
     },
     "metadata": {},
     "execution_count": 63
    }
   ],
   "source": [
    "data.isnull().sum()"
   ]
  },
  {
   "cell_type": "code",
   "execution_count": 64,
   "metadata": {},
   "outputs": [],
   "source": [
    "x=data.iloc[:,3:-1].values.reshape(-1,10)\n",
    "y=data.iloc[:,-1].values.reshape(-1,1)"
   ]
  },
  {
   "cell_type": "code",
   "execution_count": 65,
   "metadata": {},
   "outputs": [],
   "source": [
    "from sklearn.preprocessing import OneHotEncoder\n",
    "from sklearn.compose import ColumnTransformer\n",
    "ct=ColumnTransformer(transformers=[('encoder',OneHotEncoder(),[1])],remainder='passthrough')\n",
    "x=ct.fit_transform(x)"
   ]
  },
  {
   "cell_type": "code",
   "execution_count": 81,
   "metadata": {
    "tags": []
   },
   "outputs": [
    {
     "output_type": "stream",
     "name": "stdout",
     "text": "[[1.0 0.0 0 ... 1 1 101348.88]\n [0.0 0.0 1 ... 0 1 112542.58]\n [1.0 0.0 0 ... 1 0 113931.57]\n ...\n [1.0 0.0 0 ... 0 1 42085.58]\n [0.0 1.0 0 ... 1 0 92888.52]\n [1.0 0.0 0 ... 1 0 38190.78]]\n"
    }
   ],
   "source": [
    "from sklearn.preprocessing import LabelEncoder\n",
    "lb=LabelEncoder()\n",
    "x[:,4]=lb.fit_transform(x[:,4])\n",
    "print(x[0:,:])"
   ]
  },
  {
   "cell_type": "code",
   "execution_count": 82,
   "metadata": {},
   "outputs": [],
   "source": [
    "from sklearn.model_selection import train_test_split\n",
    "x_train,x_test,y_train,y_test=train_test_split(x,y,test_size=0.2,random_state=0)"
   ]
  },
  {
   "cell_type": "code",
   "execution_count": 83,
   "metadata": {
    "tags": []
   },
   "outputs": [],
   "source": [
    "from sklearn.preprocessing import StandardScaler\n",
    "sc=StandardScaler()\n",
    "x_train=sc.fit_transform(x_train)\n",
    "x_test=sc.transform(x_test)"
   ]
  },
  {
   "cell_type": "code",
   "execution_count": 84,
   "metadata": {
    "tags": []
   },
   "outputs": [],
   "source": [
    "from tensorflow.keras.models import Sequential\n",
    "from tensorflow.keras.layers import Dense\n",
    "model=Sequential()\n",
    "model.add(Dense(units=4,activation='relu'))\n",
    "model.add(Dense(units=1,activation='sigmoid'))"
   ]
  },
  {
   "cell_type": "code",
   "execution_count": 87,
   "metadata": {
    "tags": []
   },
   "outputs": [
    {
     "output_type": "stream",
     "name": "stdout",
     "text": "WARNING:tensorflow:From /home/clown/.local/lib/python3.7/site-packages/tensorflow/python/ops/nn_impl.py:180: add_dispatch_support.<locals>.wrapper (from tensorflow.python.ops.array_ops) is deprecated and will be removed in a future version.\nInstructions for updating:\nUse tf.where in 2.0, which has the same broadcast rule as np.where\n"
    }
   ],
   "source": [
    "model.compile(optimizer='adam',loss='binary_crossentropy',metrics=['accuracy'])"
   ]
  },
  {
   "cell_type": "code",
   "execution_count": 91,
   "metadata": {
    "tags": []
   },
   "outputs": [
    {
     "output_type": "stream",
     "name": "stdout",
     "text": "Epoch 1/50\n8000/8000 [==============================] - 0s 43us/sample - loss: 0.3375 - acc: 0.8624\nEpoch 2/50\n8000/8000 [==============================] - 0s 39us/sample - loss: 0.3375 - acc: 0.8614\nEpoch 3/50\n8000/8000 [==============================] - 0s 41us/sample - loss: 0.3374 - acc: 0.8621\nEpoch 4/50\n8000/8000 [==============================] - 0s 42us/sample - loss: 0.3374 - acc: 0.8612\nEpoch 5/50\n8000/8000 [==============================] - 0s 42us/sample - loss: 0.3374 - acc: 0.8633\nEpoch 6/50\n8000/8000 [==============================] - 0s 40us/sample - loss: 0.3372 - acc: 0.8627\nEpoch 7/50\n8000/8000 [==============================] - 0s 41us/sample - loss: 0.3372 - acc: 0.8620\nEpoch 8/50\n8000/8000 [==============================] - 0s 41us/sample - loss: 0.3371 - acc: 0.8619\nEpoch 9/50\n8000/8000 [==============================] - 0s 42us/sample - loss: 0.3372 - acc: 0.8634\nEpoch 10/50\n8000/8000 [==============================] - 0s 43us/sample - loss: 0.3372 - acc: 0.8627\nEpoch 11/50\n8000/8000 [==============================] - 0s 41us/sample - loss: 0.3374 - acc: 0.8637\nEpoch 12/50\n8000/8000 [==============================] - 0s 44us/sample - loss: 0.3372 - acc: 0.8608\nEpoch 13/50\n8000/8000 [==============================] - 0s 45us/sample - loss: 0.3371 - acc: 0.8643\nEpoch 14/50\n8000/8000 [==============================] - 0s 43us/sample - loss: 0.3373 - acc: 0.8627\nEpoch 15/50\n8000/8000 [==============================] - 0s 41us/sample - loss: 0.3372 - acc: 0.8612\nEpoch 16/50\n8000/8000 [==============================] - 0s 44us/sample - loss: 0.3371 - acc: 0.8624\nEpoch 17/50\n8000/8000 [==============================] - 0s 40us/sample - loss: 0.3372 - acc: 0.8629\nEpoch 18/50\n8000/8000 [==============================] - 0s 41us/sample - loss: 0.3370 - acc: 0.8633\nEpoch 19/50\n8000/8000 [==============================] - 0s 41us/sample - loss: 0.3371 - acc: 0.8626\nEpoch 20/50\n8000/8000 [==============================] - 0s 40us/sample - loss: 0.3370 - acc: 0.8649\nEpoch 21/50\n8000/8000 [==============================] - 0s 40us/sample - loss: 0.3369 - acc: 0.8630\nEpoch 22/50\n8000/8000 [==============================] - 0s 40us/sample - loss: 0.3368 - acc: 0.8631\nEpoch 23/50\n8000/8000 [==============================] - 0s 40us/sample - loss: 0.3370 - acc: 0.8633\nEpoch 24/50\n8000/8000 [==============================] - 0s 40us/sample - loss: 0.3371 - acc: 0.8625\nEpoch 25/50\n8000/8000 [==============================] - 0s 41us/sample - loss: 0.3370 - acc: 0.8626\nEpoch 26/50\n8000/8000 [==============================] - 0s 48us/sample - loss: 0.3368 - acc: 0.8634\nEpoch 27/50\n8000/8000 [==============================] - 0s 45us/sample - loss: 0.3365 - acc: 0.8625\nEpoch 28/50\n8000/8000 [==============================] - 0s 41us/sample - loss: 0.3370 - acc: 0.8622\nEpoch 29/50\n8000/8000 [==============================] - 0s 40us/sample - loss: 0.3369 - acc: 0.8624\nEpoch 30/50\n8000/8000 [==============================] - 0s 41us/sample - loss: 0.3370 - acc: 0.8634\nEpoch 31/50\n8000/8000 [==============================] - 0s 43us/sample - loss: 0.3367 - acc: 0.8636\nEpoch 32/50\n8000/8000 [==============================] - 0s 41us/sample - loss: 0.3366 - acc: 0.8621\nEpoch 33/50\n8000/8000 [==============================] - 0s 44us/sample - loss: 0.3366 - acc: 0.8636\nEpoch 34/50\n8000/8000 [==============================] - 0s 42us/sample - loss: 0.3367 - acc: 0.8631\nEpoch 35/50\n8000/8000 [==============================] - 0s 39us/sample - loss: 0.3369 - acc: 0.8629\nEpoch 36/50\n8000/8000 [==============================] - 0s 43us/sample - loss: 0.3367 - acc: 0.8633\nEpoch 37/50\n8000/8000 [==============================] - 0s 43us/sample - loss: 0.3366 - acc: 0.8630\nEpoch 38/50\n8000/8000 [==============================] - 0s 41us/sample - loss: 0.3367 - acc: 0.8618\nEpoch 39/50\n8000/8000 [==============================] - 0s 41us/sample - loss: 0.3366 - acc: 0.8649\nEpoch 40/50\n8000/8000 [==============================] - 0s 46us/sample - loss: 0.3368 - acc: 0.8629\nEpoch 41/50\n8000/8000 [==============================] - 0s 43us/sample - loss: 0.3366 - acc: 0.8627\nEpoch 42/50\n8000/8000 [==============================] - 0s 57us/sample - loss: 0.3368 - acc: 0.8634\nEpoch 43/50\n8000/8000 [==============================] - 0s 47us/sample - loss: 0.3368 - acc: 0.8633\nEpoch 44/50\n8000/8000 [==============================] - 0s 45us/sample - loss: 0.3365 - acc: 0.8640\nEpoch 45/50\n8000/8000 [==============================] - 0s 44us/sample - loss: 0.3367 - acc: 0.8633\nEpoch 46/50\n8000/8000 [==============================] - 0s 45us/sample - loss: 0.3364 - acc: 0.8633\nEpoch 47/50\n8000/8000 [==============================] - 0s 48us/sample - loss: 0.3368 - acc: 0.8640\nEpoch 48/50\n8000/8000 [==============================] - 0s 48us/sample - loss: 0.3365 - acc: 0.8645\nEpoch 49/50\n8000/8000 [==============================] - 0s 47us/sample - loss: 0.3366 - acc: 0.8633\nEpoch 50/50\n8000/8000 [==============================] - 0s 45us/sample - loss: 0.3365 - acc: 0.8633\n"
    },
    {
     "output_type": "execute_result",
     "data": {
      "text/plain": "<tensorflow.python.keras.callbacks.History at 0x7f2225978050>"
     },
     "metadata": {},
     "execution_count": 91
    }
   ],
   "source": [
    "model.fit(x_train,y_train,batch_size=50,epochs=50)"
   ]
  },
  {
   "cell_type": "code",
   "execution_count": 105,
   "metadata": {
    "tags": []
   },
   "outputs": [
    {
     "output_type": "stream",
     "name": "stdout",
     "text": "[[0 0]\n [0 1]\n [0 0]\n ...\n [0 0]\n [0 0]\n [0 0]]\n"
    }
   ],
   "source": [
    "y_pred=model.predict(x_test)\n",
    "y_pred=y_pred>0.5\n",
    "print(np.concatenate((y_pred.reshape(-1,1),y_test),axis=1))"
   ]
  },
  {
   "cell_type": "code",
   "execution_count": 106,
   "metadata": {},
   "outputs": [
    {
     "output_type": "execute_result",
     "data": {
      "text/plain": "array([[1529,   66],\n       [ 202,  203]])"
     },
     "metadata": {},
     "execution_count": 106
    }
   ],
   "source": [
    "from sklearn.metrics import confusion_matrix\n",
    "confusion_matrix(y_test,y_pred)"
   ]
  },
  {
   "cell_type": "code",
   "execution_count": 107,
   "metadata": {},
   "outputs": [
    {
     "output_type": "execute_result",
     "data": {
      "text/plain": "0.866"
     },
     "metadata": {},
     "execution_count": 107
    }
   ],
   "source": [
    "from sklearn.metrics import accuracy_score\n",
    "accuracy_score(y_test,y_pred)"
   ]
  }
 ]
}