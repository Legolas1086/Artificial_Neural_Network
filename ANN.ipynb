{
 "metadata": {
  "language_info": {
   "codemirror_mode": {
    "name": "ipython",
    "version": 3
   },
   "file_extension": ".py",
   "mimetype": "text/x-python",
   "name": "python",
   "nbconvert_exporter": "python",
   "pygments_lexer": "ipython3",
   "version": "3.7.5-final"
  },
  "orig_nbformat": 2,
  "kernelspec": {
   "name": "python_defaultSpec_1598798199765",
   "display_name": "Python 3.7.5 64-bit"
  }
 },
 "nbformat": 4,
 "nbformat_minor": 2,
 "cells": [
  {
   "cell_type": "markdown",
   "metadata": {},
   "source": [
    "Artificial Neural Network"
   ]
  },
  {
   "cell_type": "code",
   "execution_count": 59,
   "metadata": {},
   "outputs": [],
   "source": [
    "import numpy as np \n",
    "import pandas as pd \n",
    "import matplotlib.pyplot as plt"
   ]
  },
  {
   "cell_type": "markdown",
   "metadata": {},
   "source": [
    "Importing data"
   ]
  },
  {
   "cell_type": "code",
   "execution_count": 60,
   "metadata": {},
   "outputs": [
    {
     "output_type": "execute_result",
     "data": {
      "text/plain": "   RowNumber  CustomerId   Surname  CreditScore Geography  Gender  Age  \\\n0          1    15634602  Hargrave          619    France  Female   42   \n1          2    15647311      Hill          608     Spain  Female   41   \n2          3    15619304      Onio          502    France  Female   42   \n3          4    15701354      Boni          699    France  Female   39   \n4          5    15737888  Mitchell          850     Spain  Female   43   \n\n   Tenure    Balance  NumOfProducts  HasCrCard  IsActiveMember  \\\n0       2       0.00              1          1               1   \n1       1   83807.86              1          0               1   \n2       8  159660.80              3          1               0   \n3       1       0.00              2          0               0   \n4       2  125510.82              1          1               1   \n\n   EstimatedSalary  Exited  \n0        101348.88       1  \n1        112542.58       0  \n2        113931.57       1  \n3         93826.63       0  \n4         79084.10       0  ",
      "text/html": "<div>\n<style scoped>\n    .dataframe tbody tr th:only-of-type {\n        vertical-align: middle;\n    }\n\n    .dataframe tbody tr th {\n        vertical-align: top;\n    }\n\n    .dataframe thead th {\n        text-align: right;\n    }\n</style>\n<table border=\"1\" class=\"dataframe\">\n  <thead>\n    <tr style=\"text-align: right;\">\n      <th></th>\n      <th>RowNumber</th>\n      <th>CustomerId</th>\n      <th>Surname</th>\n      <th>CreditScore</th>\n      <th>Geography</th>\n      <th>Gender</th>\n      <th>Age</th>\n      <th>Tenure</th>\n      <th>Balance</th>\n      <th>NumOfProducts</th>\n      <th>HasCrCard</th>\n      <th>IsActiveMember</th>\n      <th>EstimatedSalary</th>\n      <th>Exited</th>\n    </tr>\n  </thead>\n  <tbody>\n    <tr>\n      <th>0</th>\n      <td>1</td>\n      <td>15634602</td>\n      <td>Hargrave</td>\n      <td>619</td>\n      <td>France</td>\n      <td>Female</td>\n      <td>42</td>\n      <td>2</td>\n      <td>0.00</td>\n      <td>1</td>\n      <td>1</td>\n      <td>1</td>\n      <td>101348.88</td>\n      <td>1</td>\n    </tr>\n    <tr>\n      <th>1</th>\n      <td>2</td>\n      <td>15647311</td>\n      <td>Hill</td>\n      <td>608</td>\n      <td>Spain</td>\n      <td>Female</td>\n      <td>41</td>\n      <td>1</td>\n      <td>83807.86</td>\n      <td>1</td>\n      <td>0</td>\n      <td>1</td>\n      <td>112542.58</td>\n      <td>0</td>\n    </tr>\n    <tr>\n      <th>2</th>\n      <td>3</td>\n      <td>15619304</td>\n      <td>Onio</td>\n      <td>502</td>\n      <td>France</td>\n      <td>Female</td>\n      <td>42</td>\n      <td>8</td>\n      <td>159660.80</td>\n      <td>3</td>\n      <td>1</td>\n      <td>0</td>\n      <td>113931.57</td>\n      <td>1</td>\n    </tr>\n    <tr>\n      <th>3</th>\n      <td>4</td>\n      <td>15701354</td>\n      <td>Boni</td>\n      <td>699</td>\n      <td>France</td>\n      <td>Female</td>\n      <td>39</td>\n      <td>1</td>\n      <td>0.00</td>\n      <td>2</td>\n      <td>0</td>\n      <td>0</td>\n      <td>93826.63</td>\n      <td>0</td>\n    </tr>\n    <tr>\n      <th>4</th>\n      <td>5</td>\n      <td>15737888</td>\n      <td>Mitchell</td>\n      <td>850</td>\n      <td>Spain</td>\n      <td>Female</td>\n      <td>43</td>\n      <td>2</td>\n      <td>125510.82</td>\n      <td>1</td>\n      <td>1</td>\n      <td>1</td>\n      <td>79084.10</td>\n      <td>0</td>\n    </tr>\n  </tbody>\n</table>\n</div>"
     },
     "metadata": {},
     "execution_count": 60
    }
   ],
   "source": [
    "data=pd.read_csv('Churn_Modelling.csv')\n",
    "data.head()"
   ]
  },
  {
   "cell_type": "code",
   "execution_count": 61,
   "metadata": {},
   "outputs": [
    {
     "output_type": "execute_result",
     "data": {
      "text/plain": "(10000, 14)"
     },
     "metadata": {},
     "execution_count": 61
    }
   ],
   "source": [
    "data.shape"
   ]
  },
  {
   "cell_type": "code",
   "execution_count": 62,
   "metadata": {},
   "outputs": [
    {
     "output_type": "execute_result",
     "data": {
      "text/plain": "         RowNumber    CustomerId   CreditScore           Age        Tenure  \\\ncount  10000.00000  1.000000e+04  10000.000000  10000.000000  10000.000000   \nmean    5000.50000  1.569094e+07    650.528800     38.921800      5.012800   \nstd     2886.89568  7.193619e+04     96.653299     10.487806      2.892174   \nmin        1.00000  1.556570e+07    350.000000     18.000000      0.000000   \n25%     2500.75000  1.562853e+07    584.000000     32.000000      3.000000   \n50%     5000.50000  1.569074e+07    652.000000     37.000000      5.000000   \n75%     7500.25000  1.575323e+07    718.000000     44.000000      7.000000   \nmax    10000.00000  1.581569e+07    850.000000     92.000000     10.000000   \n\n             Balance  NumOfProducts    HasCrCard  IsActiveMember  \\\ncount   10000.000000   10000.000000  10000.00000    10000.000000   \nmean    76485.889288       1.530200      0.70550        0.515100   \nstd     62397.405202       0.581654      0.45584        0.499797   \nmin         0.000000       1.000000      0.00000        0.000000   \n25%         0.000000       1.000000      0.00000        0.000000   \n50%     97198.540000       1.000000      1.00000        1.000000   \n75%    127644.240000       2.000000      1.00000        1.000000   \nmax    250898.090000       4.000000      1.00000        1.000000   \n\n       EstimatedSalary        Exited  \ncount     10000.000000  10000.000000  \nmean     100090.239881      0.203700  \nstd       57510.492818      0.402769  \nmin          11.580000      0.000000  \n25%       51002.110000      0.000000  \n50%      100193.915000      0.000000  \n75%      149388.247500      0.000000  \nmax      199992.480000      1.000000  ",
      "text/html": "<div>\n<style scoped>\n    .dataframe tbody tr th:only-of-type {\n        vertical-align: middle;\n    }\n\n    .dataframe tbody tr th {\n        vertical-align: top;\n    }\n\n    .dataframe thead th {\n        text-align: right;\n    }\n</style>\n<table border=\"1\" class=\"dataframe\">\n  <thead>\n    <tr style=\"text-align: right;\">\n      <th></th>\n      <th>RowNumber</th>\n      <th>CustomerId</th>\n      <th>CreditScore</th>\n      <th>Age</th>\n      <th>Tenure</th>\n      <th>Balance</th>\n      <th>NumOfProducts</th>\n      <th>HasCrCard</th>\n      <th>IsActiveMember</th>\n      <th>EstimatedSalary</th>\n      <th>Exited</th>\n    </tr>\n  </thead>\n  <tbody>\n    <tr>\n      <th>count</th>\n      <td>10000.00000</td>\n      <td>1.000000e+04</td>\n      <td>10000.000000</td>\n      <td>10000.000000</td>\n      <td>10000.000000</td>\n      <td>10000.000000</td>\n      <td>10000.000000</td>\n      <td>10000.00000</td>\n      <td>10000.000000</td>\n      <td>10000.000000</td>\n      <td>10000.000000</td>\n    </tr>\n    <tr>\n      <th>mean</th>\n      <td>5000.50000</td>\n      <td>1.569094e+07</td>\n      <td>650.528800</td>\n      <td>38.921800</td>\n      <td>5.012800</td>\n      <td>76485.889288</td>\n      <td>1.530200</td>\n      <td>0.70550</td>\n      <td>0.515100</td>\n      <td>100090.239881</td>\n      <td>0.203700</td>\n    </tr>\n    <tr>\n      <th>std</th>\n      <td>2886.89568</td>\n      <td>7.193619e+04</td>\n      <td>96.653299</td>\n      <td>10.487806</td>\n      <td>2.892174</td>\n      <td>62397.405202</td>\n      <td>0.581654</td>\n      <td>0.45584</td>\n      <td>0.499797</td>\n      <td>57510.492818</td>\n      <td>0.402769</td>\n    </tr>\n    <tr>\n      <th>min</th>\n      <td>1.00000</td>\n      <td>1.556570e+07</td>\n      <td>350.000000</td>\n      <td>18.000000</td>\n      <td>0.000000</td>\n      <td>0.000000</td>\n      <td>1.000000</td>\n      <td>0.00000</td>\n      <td>0.000000</td>\n      <td>11.580000</td>\n      <td>0.000000</td>\n    </tr>\n    <tr>\n      <th>25%</th>\n      <td>2500.75000</td>\n      <td>1.562853e+07</td>\n      <td>584.000000</td>\n      <td>32.000000</td>\n      <td>3.000000</td>\n      <td>0.000000</td>\n      <td>1.000000</td>\n      <td>0.00000</td>\n      <td>0.000000</td>\n      <td>51002.110000</td>\n      <td>0.000000</td>\n    </tr>\n    <tr>\n      <th>50%</th>\n      <td>5000.50000</td>\n      <td>1.569074e+07</td>\n      <td>652.000000</td>\n      <td>37.000000</td>\n      <td>5.000000</td>\n      <td>97198.540000</td>\n      <td>1.000000</td>\n      <td>1.00000</td>\n      <td>1.000000</td>\n      <td>100193.915000</td>\n      <td>0.000000</td>\n    </tr>\n    <tr>\n      <th>75%</th>\n      <td>7500.25000</td>\n      <td>1.575323e+07</td>\n      <td>718.000000</td>\n      <td>44.000000</td>\n      <td>7.000000</td>\n      <td>127644.240000</td>\n      <td>2.000000</td>\n      <td>1.00000</td>\n      <td>1.000000</td>\n      <td>149388.247500</td>\n      <td>0.000000</td>\n    </tr>\n    <tr>\n      <th>max</th>\n      <td>10000.00000</td>\n      <td>1.581569e+07</td>\n      <td>850.000000</td>\n      <td>92.000000</td>\n      <td>10.000000</td>\n      <td>250898.090000</td>\n      <td>4.000000</td>\n      <td>1.00000</td>\n      <td>1.000000</td>\n      <td>199992.480000</td>\n      <td>1.000000</td>\n    </tr>\n  </tbody>\n</table>\n</div>"
     },
     "metadata": {},
     "execution_count": 62
    }
   ],
   "source": [
    "data.describe()"
   ]
  },
  {
   "cell_type": "markdown",
   "metadata": {},
   "source": [
    "Checking Null Values"
   ]
  },
  {
   "cell_type": "code",
   "execution_count": 63,
   "metadata": {},
   "outputs": [
    {
     "output_type": "execute_result",
     "data": {
      "text/plain": "RowNumber          0\nCustomerId         0\nSurname            0\nCreditScore        0\nGeography          0\nGender             0\nAge                0\nTenure             0\nBalance            0\nNumOfProducts      0\nHasCrCard          0\nIsActiveMember     0\nEstimatedSalary    0\nExited             0\ndtype: int64"
     },
     "metadata": {},
     "execution_count": 63
    }
   ],
   "source": [
    "data.isnull().sum()"
   ]
  },
  {
   "cell_type": "code",
   "execution_count": 64,
   "metadata": {},
   "outputs": [],
   "source": [
    "x=data.iloc[:,3:-1].values.reshape(-1,10)\n",
    "y=data.iloc[:,-1].values.reshape(-1,1)"
   ]
  },
  {
   "cell_type": "markdown",
   "metadata": {},
   "source": [
    "Encoding Categorical Variables"
   ]
  },
  {
   "cell_type": "code",
   "execution_count": 65,
   "metadata": {},
   "outputs": [],
   "source": [
    "from sklearn.preprocessing import OneHotEncoder\n",
    "from sklearn.compose import ColumnTransformer\n",
    "ct=ColumnTransformer(transformers=[('encoder',OneHotEncoder(),[1])],remainder='passthrough')\n",
    "x=ct.fit_transform(x)"
   ]
  },
  {
   "cell_type": "code",
   "execution_count": 108,
   "metadata": {
    "tags": []
   },
   "outputs": [],
   "source": [
    "from sklearn.preprocessing import LabelEncoder\n",
    "lb=LabelEncoder()\n",
    "x[:,4]=lb.fit_transform(x[:,4])"
   ]
  },
  {
   "cell_type": "markdown",
   "metadata": {},
   "source": [
    "Splitting Data"
   ]
  },
  {
   "cell_type": "code",
   "execution_count": 82,
   "metadata": {},
   "outputs": [],
   "source": [
    "from sklearn.model_selection import train_test_split\n",
    "x_train,x_test,y_train,y_test=train_test_split(x,y,test_size=0.2,random_state=0)"
   ]
  },
  {
   "cell_type": "markdown",
   "metadata": {},
   "source": [
    "Features Scaling"
   ]
  },
  {
   "cell_type": "code",
   "execution_count": 83,
   "metadata": {
    "tags": []
   },
   "outputs": [],
   "source": [
    "from sklearn.preprocessing import StandardScaler\n",
    "sc=StandardScaler()\n",
    "x_train=sc.fit_transform(x_train)\n",
    "x_test=sc.transform(x_test)"
   ]
  },
  {
   "cell_type": "markdown",
   "metadata": {},
   "source": [
    "Neural Network with 1 hidden layer(with input and output layers)"
   ]
  },
  {
   "cell_type": "code",
   "execution_count": 129,
   "metadata": {
    "tags": []
   },
   "outputs": [],
   "source": [
    "from tensorflow.keras.models import Sequential\n",
    "from tensorflow.keras.layers import Dense\n",
    "import tensorflow.keras\n",
    "model=Sequential()\n",
    "model.add(Dense(units=4,activation='relu'))\n",
    "model.add(Dense(units=1,activation='sigmoid'))"
   ]
  },
  {
   "cell_type": "markdown",
   "metadata": {},
   "source": [
    "Compiling Neural Netwok"
   ]
  },
  {
   "cell_type": "code",
   "execution_count": 130,
   "metadata": {
    "tags": []
   },
   "outputs": [],
   "source": [
    "opt=tensorflow.keras.optimizers.Adam(learning_rate=1e-2)\n",
    "model.compile(optimizer=opt,loss='binary_crossentropy',metrics=['accuracy'])"
   ]
  },
  {
   "cell_type": "markdown",
   "metadata": {},
   "source": [
    "Training"
   ]
  },
  {
   "cell_type": "code",
   "execution_count": 131,
   "metadata": {
    "tags": []
   },
   "outputs": [
    {
     "output_type": "stream",
     "name": "stdout",
     "text": "Epoch 1/100\n8000/8000 [==============================] - 0s 46us/sample - loss: 0.4837 - acc: 0.7896\nEpoch 2/100\n8000/8000 [==============================] - 0s 31us/sample - loss: 0.4126 - acc: 0.8164\nEpoch 3/100\n8000/8000 [==============================] - 0s 31us/sample - loss: 0.3926 - acc: 0.8269\nEpoch 4/100\n8000/8000 [==============================] - 0s 32us/sample - loss: 0.3824 - acc: 0.8301\nEpoch 5/100\n8000/8000 [==============================] - 0s 36us/sample - loss: 0.3785 - acc: 0.8295\nEpoch 6/100\n8000/8000 [==============================] - 0s 35us/sample - loss: 0.3733 - acc: 0.8436\nEpoch 7/100\n8000/8000 [==============================] - 0s 34us/sample - loss: 0.3715 - acc: 0.8430\nEpoch 8/100\n8000/8000 [==============================] - 0s 34us/sample - loss: 0.3667 - acc: 0.8490\nEpoch 9/100\n8000/8000 [==============================] - 0s 36us/sample - loss: 0.3661 - acc: 0.8493\nEpoch 10/100\n8000/8000 [==============================] - 0s 35us/sample - loss: 0.3637 - acc: 0.8497\nEpoch 11/100\n8000/8000 [==============================] - 0s 38us/sample - loss: 0.3607 - acc: 0.8520\nEpoch 12/100\n8000/8000 [==============================] - 0s 37us/sample - loss: 0.3584 - acc: 0.8519\nEpoch 13/100\n8000/8000 [==============================] - 0s 29us/sample - loss: 0.3600 - acc: 0.8509\nEpoch 14/100\n8000/8000 [==============================] - 0s 28us/sample - loss: 0.3588 - acc: 0.8525\nEpoch 15/100\n8000/8000 [==============================] - 0s 32us/sample - loss: 0.3579 - acc: 0.8514\nEpoch 16/100\n8000/8000 [==============================] - 0s 30us/sample - loss: 0.3572 - acc: 0.8543\nEpoch 17/100\n8000/8000 [==============================] - 0s 32us/sample - loss: 0.3576 - acc: 0.8562\nEpoch 18/100\n8000/8000 [==============================] - 0s 31us/sample - loss: 0.3566 - acc: 0.8516\nEpoch 19/100\n8000/8000 [==============================] - 0s 32us/sample - loss: 0.3564 - acc: 0.8504\nEpoch 20/100\n8000/8000 [==============================] - 0s 35us/sample - loss: 0.3545 - acc: 0.8546\nEpoch 21/100\n8000/8000 [==============================] - 0s 32us/sample - loss: 0.3552 - acc: 0.8539\nEpoch 22/100\n8000/8000 [==============================] - 0s 38us/sample - loss: 0.3557 - acc: 0.8549\nEpoch 23/100\n8000/8000 [==============================] - 0s 38us/sample - loss: 0.3555 - acc: 0.8564\nEpoch 24/100\n8000/8000 [==============================] - 0s 33us/sample - loss: 0.3553 - acc: 0.8566\nEpoch 25/100\n8000/8000 [==============================] - 0s 31us/sample - loss: 0.3539 - acc: 0.8536\nEpoch 26/100\n8000/8000 [==============================] - 0s 28us/sample - loss: 0.3526 - acc: 0.8551\nEpoch 27/100\n8000/8000 [==============================] - 0s 30us/sample - loss: 0.3548 - acc: 0.8569\nEpoch 28/100\n8000/8000 [==============================] - 0s 30us/sample - loss: 0.3533 - acc: 0.8544\nEpoch 29/100\n8000/8000 [==============================] - 0s 27us/sample - loss: 0.3532 - acc: 0.8534\nEpoch 30/100\n8000/8000 [==============================] - 0s 30us/sample - loss: 0.3515 - acc: 0.8576\nEpoch 31/100\n8000/8000 [==============================] - 0s 30us/sample - loss: 0.3537 - acc: 0.8549\nEpoch 32/100\n8000/8000 [==============================] - 0s 30us/sample - loss: 0.3532 - acc: 0.8537\nEpoch 33/100\n8000/8000 [==============================] - 0s 26us/sample - loss: 0.3524 - acc: 0.8544\nEpoch 34/100\n8000/8000 [==============================] - 0s 30us/sample - loss: 0.3538 - acc: 0.8571\nEpoch 35/100\n8000/8000 [==============================] - 0s 27us/sample - loss: 0.3528 - acc: 0.8543\nEpoch 36/100\n8000/8000 [==============================] - 0s 31us/sample - loss: 0.3519 - acc: 0.8564\nEpoch 37/100\n8000/8000 [==============================] - 0s 29us/sample - loss: 0.3527 - acc: 0.8549\nEpoch 38/100\n8000/8000 [==============================] - 0s 25us/sample - loss: 0.3533 - acc: 0.8579\nEpoch 39/100\n8000/8000 [==============================] - 0s 25us/sample - loss: 0.3511 - acc: 0.8571\nEpoch 40/100\n8000/8000 [==============================] - 0s 25us/sample - loss: 0.3518 - acc: 0.8540\nEpoch 41/100\n8000/8000 [==============================] - 0s 26us/sample - loss: 0.3518 - acc: 0.8544\nEpoch 42/100\n8000/8000 [==============================] - 0s 29us/sample - loss: 0.3525 - acc: 0.8551\nEpoch 43/100\n8000/8000 [==============================] - 0s 33us/sample - loss: 0.3521 - acc: 0.8562\nEpoch 44/100\n8000/8000 [==============================] - 0s 29us/sample - loss: 0.3529 - acc: 0.8565\nEpoch 45/100\n8000/8000 [==============================] - 0s 31us/sample - loss: 0.3518 - acc: 0.8545\nEpoch 46/100\n8000/8000 [==============================] - 0s 30us/sample - loss: 0.3501 - acc: 0.8595\nEpoch 47/100\n8000/8000 [==============================] - 0s 31us/sample - loss: 0.3529 - acc: 0.8562\nEpoch 48/100\n8000/8000 [==============================] - 0s 26us/sample - loss: 0.3527 - acc: 0.8558\nEpoch 49/100\n8000/8000 [==============================] - 0s 30us/sample - loss: 0.3526 - acc: 0.8562\nEpoch 50/100\n8000/8000 [==============================] - 0s 27us/sample - loss: 0.3516 - acc: 0.8570\nEpoch 51/100\n8000/8000 [==============================] - 0s 31us/sample - loss: 0.3521 - acc: 0.8561\nEpoch 52/100\n8000/8000 [==============================] - 0s 30us/sample - loss: 0.3537 - acc: 0.8550\nEpoch 53/100\n8000/8000 [==============================] - 0s 27us/sample - loss: 0.3531 - acc: 0.8546\nEpoch 54/100\n8000/8000 [==============================] - 0s 30us/sample - loss: 0.3512 - acc: 0.8549\nEpoch 55/100\n8000/8000 [==============================] - 0s 29us/sample - loss: 0.3505 - acc: 0.8546\nEpoch 56/100\n8000/8000 [==============================] - 0s 26us/sample - loss: 0.3519 - acc: 0.8556\nEpoch 57/100\n8000/8000 [==============================] - 0s 26us/sample - loss: 0.3512 - acc: 0.8576\nEpoch 58/100\n8000/8000 [==============================] - 0s 30us/sample - loss: 0.3513 - acc: 0.8585\nEpoch 59/100\n8000/8000 [==============================] - 0s 26us/sample - loss: 0.3531 - acc: 0.8553\nEpoch 60/100\n8000/8000 [==============================] - 0s 34us/sample - loss: 0.3529 - acc: 0.8512\nEpoch 61/100\n8000/8000 [==============================] - 0s 28us/sample - loss: 0.3517 - acc: 0.8554\nEpoch 62/100\n8000/8000 [==============================] - 0s 30us/sample - loss: 0.3501 - acc: 0.8568\nEpoch 63/100\n8000/8000 [==============================] - 0s 31us/sample - loss: 0.3522 - acc: 0.8556\nEpoch 64/100\n8000/8000 [==============================] - 0s 30us/sample - loss: 0.3520 - acc: 0.8580\nEpoch 65/100\n8000/8000 [==============================] - 0s 30us/sample - loss: 0.3534 - acc: 0.8539\nEpoch 66/100\n8000/8000 [==============================] - 0s 26us/sample - loss: 0.3525 - acc: 0.8547\nEpoch 67/100\n8000/8000 [==============================] - 0s 27us/sample - loss: 0.3535 - acc: 0.8547\nEpoch 68/100\n8000/8000 [==============================] - 0s 29us/sample - loss: 0.3536 - acc: 0.8564\nEpoch 69/100\n8000/8000 [==============================] - 0s 31us/sample - loss: 0.3524 - acc: 0.8586\nEpoch 70/100\n8000/8000 [==============================] - 0s 32us/sample - loss: 0.3510 - acc: 0.8570\nEpoch 71/100\n8000/8000 [==============================] - 0s 31us/sample - loss: 0.3520 - acc: 0.8545\nEpoch 72/100\n8000/8000 [==============================] - 0s 31us/sample - loss: 0.3545 - acc: 0.8540\nEpoch 73/100\n8000/8000 [==============================] - 0s 31us/sample - loss: 0.3523 - acc: 0.8562\nEpoch 74/100\n8000/8000 [==============================] - 0s 30us/sample - loss: 0.3517 - acc: 0.8544\nEpoch 75/100\n8000/8000 [==============================] - 0s 26us/sample - loss: 0.3516 - acc: 0.8585\nEpoch 76/100\n8000/8000 [==============================] - 0s 26us/sample - loss: 0.3512 - acc: 0.8580\nEpoch 77/100\n8000/8000 [==============================] - 0s 33us/sample - loss: 0.3527 - acc: 0.8535\nEpoch 78/100\n8000/8000 [==============================] - 0s 30us/sample - loss: 0.3526 - acc: 0.8560\nEpoch 79/100\n8000/8000 [==============================] - 0s 29us/sample - loss: 0.3506 - acc: 0.8572\nEpoch 80/100\n8000/8000 [==============================] - 0s 25us/sample - loss: 0.3513 - acc: 0.8569\nEpoch 81/100\n8000/8000 [==============================] - 0s 29us/sample - loss: 0.3514 - acc: 0.8572\nEpoch 82/100\n8000/8000 [==============================] - 0s 29us/sample - loss: 0.3502 - acc: 0.8575\nEpoch 83/100\n8000/8000 [==============================] - 0s 30us/sample - loss: 0.3514 - acc: 0.8528\nEpoch 84/100\n8000/8000 [==============================] - 0s 30us/sample - loss: 0.3507 - acc: 0.8549\nEpoch 85/100\n8000/8000 [==============================] - 0s 30us/sample - loss: 0.3507 - acc: 0.8549\nEpoch 86/100\n8000/8000 [==============================] - 0s 29us/sample - loss: 0.3511 - acc: 0.8568\nEpoch 87/100\n8000/8000 [==============================] - 0s 29us/sample - loss: 0.3524 - acc: 0.8576\nEpoch 88/100\n8000/8000 [==============================] - 0s 28us/sample - loss: 0.3506 - acc: 0.8571\nEpoch 89/100\n8000/8000 [==============================] - 0s 28us/sample - loss: 0.3510 - acc: 0.8591\nEpoch 90/100\n8000/8000 [==============================] - 0s 28us/sample - loss: 0.3527 - acc: 0.8528\nEpoch 91/100\n8000/8000 [==============================] - 0s 31us/sample - loss: 0.3516 - acc: 0.8565\nEpoch 92/100\n8000/8000 [==============================] - 0s 31us/sample - loss: 0.3524 - acc: 0.8554\nEpoch 93/100\n8000/8000 [==============================] - 0s 30us/sample - loss: 0.3503 - acc: 0.8561\nEpoch 94/100\n8000/8000 [==============================] - 0s 28us/sample - loss: 0.3503 - acc: 0.8564\nEpoch 95/100\n8000/8000 [==============================] - 0s 29us/sample - loss: 0.3509 - acc: 0.8556\nEpoch 96/100\n8000/8000 [==============================] - 0s 31us/sample - loss: 0.3505 - acc: 0.8579\nEpoch 97/100\n8000/8000 [==============================] - 0s 31us/sample - loss: 0.3507 - acc: 0.8576\nEpoch 98/100\n8000/8000 [==============================] - 0s 28us/sample - loss: 0.3519 - acc: 0.8535\nEpoch 99/100\n8000/8000 [==============================] - 0s 29us/sample - loss: 0.3513 - acc: 0.8566\nEpoch 100/100\n8000/8000 [==============================] - 0s 31us/sample - loss: 0.3509 - acc: 0.8577\n"
    },
    {
     "output_type": "execute_result",
     "data": {
      "text/plain": "<tensorflow.python.keras.callbacks.History at 0x7f21f04f50d0>"
     },
     "metadata": {},
     "execution_count": 131
    }
   ],
   "source": [
    "model.fit(x_train,y_train,batch_size=50,epochs=100)"
   ]
  },
  {
   "cell_type": "markdown",
   "metadata": {},
   "source": [
    "Predicting"
   ]
  },
  {
   "cell_type": "code",
   "execution_count": 109,
   "metadata": {
    "tags": []
   },
   "outputs": [],
   "source": [
    "y_pred=model.predict(x_test)\n",
    "y_pred=y_pred>0.5"
   ]
  },
  {
   "cell_type": "markdown",
   "metadata": {},
   "source": [
    "Analising"
   ]
  },
  {
   "cell_type": "code",
   "execution_count": 110,
   "metadata": {},
   "outputs": [
    {
     "output_type": "execute_result",
     "data": {
      "text/plain": "array([[1529,   66],\n       [ 202,  203]])"
     },
     "metadata": {},
     "execution_count": 110
    }
   ],
   "source": [
    "from sklearn.metrics import confusion_matrix\n",
    "confusion_matrix(y_test,y_pred)"
   ]
  },
  {
   "cell_type": "code",
   "execution_count": 111,
   "metadata": {},
   "outputs": [
    {
     "output_type": "execute_result",
     "data": {
      "text/plain": "0.866"
     },
     "metadata": {},
     "execution_count": 111
    }
   ],
   "source": [
    "from sklearn.metrics import accuracy_score\n",
    "accuracy_score(y_test,y_pred)"
   ]
  }
 ]
}